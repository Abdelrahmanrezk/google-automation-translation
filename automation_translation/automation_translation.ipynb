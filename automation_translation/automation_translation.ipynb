{
 "cells": [
  {
   "cell_type": "markdown",
   "metadata": {},
   "source": [
    "# Import used libraries"
   ]
  },
  {
   "cell_type": "code",
   "execution_count": 1,
   "metadata": {},
   "outputs": [],
   "source": [
    "# !pip3 install 'selenium<4.0.0'"
   ]
  },
  {
   "cell_type": "code",
   "execution_count": 2,
   "metadata": {},
   "outputs": [],
   "source": [
    "from config import *\n",
    "from selenium import webdriver\n",
    "from selenium.webdriver.firefox.options import Options\n",
    "import os\n",
    "# import pymongo\n",
    "from time import sleep\n",
    "import pandas as pd\n",
    "import numpy as np\n",
    "import re\n",
    "import csv\n",
    "import sys\n",
    "from time import sleep\n",
    "from multiprocessing import Process\n",
    "from selenium.webdriver.common.by import By"
   ]
  },
  {
   "cell_type": "markdown",
   "metadata": {},
   "source": [
    "## Connect to mongodb\n",
    "\n",
    "you should have your own parameters of: \n",
    "- mongo user\n",
    "- mongo pass\n",
    "- mongo_url\n",
    "\n",
    "apply these three paramters in config file.\n",
    "\n",
    "**I have separate the positive reviews from negative reviews in two databases.**"
   ]
  },
  {
   "cell_type": "code",
   "execution_count": 3,
   "metadata": {},
   "outputs": [],
   "source": [
    "# client = pymongo.MongoClient(f\"mongodb+srv://{mongo_user}:{mongo_pass}@{mongo_url}\")\n",
    "# db1 = client.positive_reviews\n",
    "# client = pymongo.MongoClient(f\"mongodb+srv://{mongo_user}:{mongo_pass}@{mongo_url}\")\n",
    "# db2 = client.negative_reviews"
   ]
  },
  {
   "cell_type": "code",
   "execution_count": 4,
   "metadata": {},
   "outputs": [],
   "source": [
    "try:\n",
    "    current_path = os.path.dirname(os.path.abspath(__file__))\n",
    "except:\n",
    "    current_path = '.'"
   ]
  },
  {
   "cell_type": "code",
   "execution_count": 5,
   "metadata": {},
   "outputs": [],
   "source": [
    "def init_driver(gecko_driver='', user_agent='', load_images=True, is_headless=False):\n",
    "    '''\n",
    "        This function is just to set up some of default for browser\n",
    "    '''\n",
    "    firefox_profile = webdriver.FirefoxProfile()\n",
    "    \n",
    "    firefox_profile.set_preference('dom.ipc.plugins.enabled.libflashplayer.so', False)\n",
    "    firefox_profile.set_preference(\"media.volume_scale\", \"0.0\")\n",
    "    firefox_profile.set_preference(\"dom.webnotifications.enabled\", False)\n",
    "    if user_agent != '':\n",
    "        firefox_profile.set_preference(\"general.useragent.override\", user_agent)\n",
    "    if not load_images:\n",
    "        firefox_profile.set_preference('permissions.default.image', 2)\n",
    "\n",
    "    options = Options()\n",
    "    options.headless = is_headless\n",
    "    \n",
    "    driver = webdriver.Firefox(options=options,\n",
    "                               executable_path=f'{current_path}/{gecko_driver}',\n",
    "                               firefox_profile=firefox_profile)\n",
    "    \n",
    "    return driver"
   ]
  },
  {
   "cell_type": "code",
   "execution_count": 6,
   "metadata": {},
   "outputs": [],
   "source": [
    "def get_url(url, driver):\n",
    "    '''\n",
    "    Argument:\n",
    "        url of any page to get\n",
    "        driver that was inilized\n",
    "    return:\n",
    "        True\n",
    "    '''\n",
    "    driver.get(url)\n",
    "    driver.refresh()\n",
    "    return True\n"
   ]
  },
  {
   "cell_type": "markdown",
   "metadata": {},
   "source": [
    "### Call the main function with multithreading process\n",
    "\n",
    "first of all we launch our driver and then click on the require languages we need to translate \"from Engish\" and \"to Arabic\".\n",
    "\n",
    "so you will see that en_selctor is the source language and ar_selctor that we translate to.\n",
    "\n",
    "I just use condition that present each 3000 translated reviews.\n",
    "\n",
    "for each time we send English review to google we need to ensure that its cleared once translated to Arabic.\n",
    "\n",
    "based on using multiprocessing that help us translate positive and negative reviews at the same time we enshure that the sourse is positive or negative reviews and then send to database once it has no review like that because of repated entry in any time we translate other reviews.\n",
    "\n",
    "close the driver once it finish."
   ]
  },
  {
   "cell_type": "code",
   "execution_count": 7,
   "metadata": {},
   "outputs": [],
   "source": [
    "def automated_google_translation(list_of_reviews, url):\n",
    "    driver = init_driver(gecko_driver,user_agent=user_agent)\n",
    "    get_url(url, driver)\n",
    "    en_selctor = driver.find_element_by_css_selector('#i8')\n",
    "    en_selctor.click()\n",
    "    ar_selctor = driver.find_element_by_css_selector('#i12')\n",
    "    ar_selctor.click()\n",
    "    \n",
    "    click_out = driver.find_element_by_css_selector('.hgbeOc.EjH7wc').click()\n",
    "    \n",
    "    translated_to_en = []\n",
    "#     translated_reviews_negative = []\n",
    "    \n",
    "    for i, reviews in enumerate(list_of_reviews):\n",
    "        if i % 10000 == 0:\n",
    "            print(\"Translate \" + str(i) + \" reviews\")\n",
    "            \n",
    "        source = driver.find_element_by_css_selector('textarea.er8xn')\n",
    "        source.clear()\n",
    "        source.send_keys(reviews)\n",
    "        sleep(1)\n",
    "        translate = driver.find_element_by_css_selector('.dePhmb .eyKpYb .Q4iAWc')\n",
    "        translated_to_en.append(translate.text)\n",
    "#         print(translate.text)\n",
    "#         break\n",
    "        \n",
    "    driver.close()\n",
    "    return translated_to_en"
   ]
  },
  {
   "cell_type": "markdown",
   "metadata": {},
   "source": [
    "## Reading csv\n",
    "you need to read you file from csv_files the same file has classifed Arabic reviews with 5000 review.\n",
    "\n",
    "so for another time you have another file with english reviews just apply it in the dir.\n",
    "\n",
    "you should apply your column that contain the polarity of the review instead of **'reviews.rating'**"
   ]
  },
  {
   "cell_type": "code",
   "execution_count": 8,
   "metadata": {},
   "outputs": [],
   "source": [
    "df = pd.read_csv('all_poems_w_clean verse_no_missing_drop.csv')"
   ]
  },
  {
   "cell_type": "code",
   "execution_count": 9,
   "metadata": {},
   "outputs": [
    {
     "data": {
      "text/html": [
       "<div>\n",
       "<style scoped>\n",
       "    .dataframe tbody tr th:only-of-type {\n",
       "        vertical-align: middle;\n",
       "    }\n",
       "\n",
       "    .dataframe tbody tr th {\n",
       "        vertical-align: top;\n",
       "    }\n",
       "\n",
       "    .dataframe thead th {\n",
       "        text-align: right;\n",
       "    }\n",
       "</style>\n",
       "<table border=\"1\" class=\"dataframe\">\n",
       "  <thead>\n",
       "    <tr style=\"text-align: right;\">\n",
       "      <th></th>\n",
       "      <th>Unnamed: 0</th>\n",
       "      <th>period</th>\n",
       "      <th>poet</th>\n",
       "      <th>rhyme_scheme</th>\n",
       "      <th>meter</th>\n",
       "      <th>clean_verse</th>\n",
       "    </tr>\n",
       "  </thead>\n",
       "  <tbody>\n",
       "    <tr>\n",
       "      <th>0</th>\n",
       "      <td>0</td>\n",
       "      <td>قبل الإسلام</td>\n",
       "      <td>عمرو بنِ قُمَيئَة</td>\n",
       "      <td>د</td>\n",
       "      <td>الطويل</td>\n",
       "      <td>خَليلَيَّ لا تَستَعجِلا أَن تَزَوَّدا وَأَن تَ...</td>\n",
       "    </tr>\n",
       "    <tr>\n",
       "      <th>1</th>\n",
       "      <td>1</td>\n",
       "      <td>قبل الإسلام</td>\n",
       "      <td>عمرو بنِ قُمَيئَة</td>\n",
       "      <td>د</td>\n",
       "      <td>الطويل</td>\n",
       "      <td>فَما لَبَثٌ يَوماً بِسابِقٍ مَغنَمٍ وَلا سُرعَ...</td>\n",
       "    </tr>\n",
       "    <tr>\n",
       "      <th>2</th>\n",
       "      <td>2</td>\n",
       "      <td>قبل الإسلام</td>\n",
       "      <td>عمرو بنِ قُمَيئَة</td>\n",
       "      <td>د</td>\n",
       "      <td>الطويل</td>\n",
       "      <td>وَإِن تُنظِراني اليَومَ أَقضِ لُبانَةً وَتَستَ...</td>\n",
       "    </tr>\n",
       "    <tr>\n",
       "      <th>3</th>\n",
       "      <td>3</td>\n",
       "      <td>قبل الإسلام</td>\n",
       "      <td>عمرو بنِ قُمَيئَة</td>\n",
       "      <td>د</td>\n",
       "      <td>الطويل</td>\n",
       "      <td>لَعَمرُكَ ما نَفسٌ بِجِدٍ رَشيدَةٍ تُؤامِرُني ...</td>\n",
       "    </tr>\n",
       "    <tr>\n",
       "      <th>4</th>\n",
       "      <td>4</td>\n",
       "      <td>قبل الإسلام</td>\n",
       "      <td>عمرو بنِ قُمَيئَة</td>\n",
       "      <td>د</td>\n",
       "      <td>الطويل</td>\n",
       "      <td>وَإِن ظَهَرَت مِنهُ قَوارِصُ جَمَّةٌ وَأَفرَعَ...</td>\n",
       "    </tr>\n",
       "  </tbody>\n",
       "</table>\n",
       "</div>"
      ],
      "text/plain": [
       "   Unnamed: 0       period               poet rhyme_scheme   meter  \\\n",
       "0           0  قبل الإسلام  عمرو بنِ قُمَيئَة            د  الطويل   \n",
       "1           1  قبل الإسلام  عمرو بنِ قُمَيئَة            د  الطويل   \n",
       "2           2  قبل الإسلام  عمرو بنِ قُمَيئَة            د  الطويل   \n",
       "3           3  قبل الإسلام  عمرو بنِ قُمَيئَة            د  الطويل   \n",
       "4           4  قبل الإسلام  عمرو بنِ قُمَيئَة            د  الطويل   \n",
       "\n",
       "                                         clean_verse  \n",
       "0  خَليلَيَّ لا تَستَعجِلا أَن تَزَوَّدا وَأَن تَ...  \n",
       "1  فَما لَبَثٌ يَوماً بِسابِقٍ مَغنَمٍ وَلا سُرعَ...  \n",
       "2  وَإِن تُنظِراني اليَومَ أَقضِ لُبانَةً وَتَستَ...  \n",
       "3  لَعَمرُكَ ما نَفسٌ بِجِدٍ رَشيدَةٍ تُؤامِرُني ...  \n",
       "4  وَإِن ظَهَرَت مِنهُ قَوارِصُ جَمَّةٌ وَأَفرَعَ...  "
      ]
     },
     "execution_count": 9,
     "metadata": {},
     "output_type": "execute_result"
    }
   ],
   "source": [
    "df.head()"
   ]
  },
  {
   "cell_type": "code",
   "execution_count": 10,
   "metadata": {},
   "outputs": [],
   "source": [
    "df.dropna(inplace=True)"
   ]
  },
  {
   "cell_type": "code",
   "execution_count": 11,
   "metadata": {},
   "outputs": [],
   "source": [
    "clean_verse = list(df['clean_verse'])\n",
    "# list_of_negative = df[df['reviews.rating'] == 0]"
   ]
  },
  {
   "cell_type": "code",
   "execution_count": 12,
   "metadata": {},
   "outputs": [
    {
     "data": {
      "text/plain": [
       "1684668"
      ]
     },
     "execution_count": 12,
     "metadata": {},
     "output_type": "execute_result"
    }
   ],
   "source": [
    "len(clean_verse)"
   ]
  },
  {
   "cell_type": "code",
   "execution_count": 13,
   "metadata": {},
   "outputs": [],
   "source": [
    "TASHKEEL           = re.compile(r'[\\u0617-\\u061A\\u064B-\\u0652]')"
   ]
  },
  {
   "cell_type": "code",
   "execution_count": 14,
   "metadata": {},
   "outputs": [],
   "source": [
    "def remove_taskel(text):\n",
    "    return TASHKEEL.sub(r\"\", text)"
   ]
  },
  {
   "cell_type": "code",
   "execution_count": 15,
   "metadata": {},
   "outputs": [
    {
     "data": {
      "text/plain": [
       "['خليلي لا تستعجلا أن تزودا وأن تجمعا شملي وتنتظرا غدا',\n",
       " 'فما لبث يوما بسابق مغنم ولا سرعتي يوما بسابقة الردى',\n",
       " 'وإن تنظراني اليوم أقض لبانة وتستوجبا منا علي وتحمدا']"
      ]
     },
     "execution_count": 15,
     "metadata": {},
     "output_type": "execute_result"
    }
   ],
   "source": [
    "clean_verse = [remove_taskel(text) for text in clean_verse]\n",
    "clean_verse[:3]"
   ]
  },
  {
   "cell_type": "code",
   "execution_count": 16,
   "metadata": {},
   "outputs": [],
   "source": [
    "# list_of_positive_reviews_english = list(list_of_positive['reviews.text'])\n",
    "# list_of_negative_reviews_english = list(list_of_negative['reviews.text'])"
   ]
  },
  {
   "cell_type": "code",
   "execution_count": null,
   "metadata": {},
   "outputs": [],
   "source": [
    "# print(len(list_of_positive_reviews_english))\n",
    "# len(list_of_negative_reviews_english)"
   ]
  },
  {
   "cell_type": "code",
   "execution_count": 17,
   "metadata": {},
   "outputs": [
    {
     "name": "stdout",
     "output_type": "stream",
     "text": [
      "Translate 0 reviews\n",
      "==================================================\n",
      "==================================================\n",
      "==================================================\n",
      "==================================================\n",
      "==================================================\n",
      "==================================================\n",
      "==================================================\n",
      "==================================================\n",
      "==================================================\n",
      "==================================================\n",
      "Translate 10 reviews\n",
      "==================================================\n",
      "==================================================\n",
      "==================================================\n",
      "==================================================\n",
      "==================================================\n",
      "==================================================\n",
      "==================================================\n",
      "==================================================\n",
      "==================================================\n",
      "==================================================\n",
      "Translate 20 reviews\n",
      "==================================================\n",
      "==================================================\n",
      "==================================================\n",
      "==================================================\n",
      "==================================================\n",
      "==================================================\n",
      "==================================================\n",
      "==================================================\n",
      "==================================================\n",
      "==================================================\n",
      "Translate 30 reviews\n",
      "==================================================\n",
      "==================================================\n",
      "==================================================\n",
      "==================================================\n",
      "==================================================\n",
      "==================================================\n",
      "==================================================\n",
      "==================================================\n",
      "==================================================\n",
      "==================================================\n",
      "Translate 40 reviews\n",
      "==================================================\n",
      "==================================================\n",
      "==================================================\n",
      "==================================================\n",
      "==================================================\n",
      "==================================================\n",
      "==================================================\n",
      "==================================================\n",
      "==================================================\n",
      "==================================================\n"
     ]
    }
   ],
   "source": [
    "translated_to_en = automated_google_translation(clean_verse[:50], google_translate_url)"
   ]
  },
  {
   "cell_type": "code",
   "execution_count": 18,
   "metadata": {},
   "outputs": [
    {
     "data": {
      "text/plain": [
       "['Khalili, do not rush to provide a comprehensive gathering and wait tomorrow',\n",
       " 'So soon I am a former sheep, nor my speed, one day in the precedent',\n",
       " 'And if you look at me today, I will spend a bila and you will be obligated to me and praise us',\n",
       " 'For your age, the same is hard, rational, I am a secret of my secret, to get angry',\n",
       " 'And if it appears from him a lot and branches in Lumi again and ascending',\n",
       " 'I have to be guilty to be his fairy except the saying of Bagh',\n",
       " 'For my life, for a person who calls for his rope if he calls in the maqam',\n",
       " 'Great ashes of destiny, not tired, or ethnic',\n",
       " 'And if you declare a eyeliner, a garden from the wind did not leave the money.',\n",
       " 'I have been patient with the loyalty of the loyalty and destroy them if they are close to them',\n",
       " 'Faraj Al -Hayy did not protect except the governor of Karim Al -Muhaya, Majid, other than the one',\n",
       " 'I see my neighbor, I was afraid, her advice and love for her had it not been for the nuclei and its ambition',\n",
       " 'So, show me the star of Shakhis, his souls, and the bird of the birds of the immun',\n",
       " 'If you are listening, the riot is from me, if I want it, it does not come from it.',\n",
       " 'I am arrested and fulfilled',\n",
       " 'However, my people were slaughtered by me, and my home became a land other than its nobility',\n",
       " 'Navigators are implemented from them, so I was wondered and harmed me as it was',\n",
       " 'I said separate the house is more beautiful among us',\n",
       " 'However, I may pretend their father if the lawsuit prevails and its explicit',\n",
       " 'And I see my religion agrees with their religion if they grab their branches and sacrifice',\n",
       " 'And a status of the pilgrimage, which I knew of a spot that cannot be in its spirit',\n",
       " 'I would like you to leave Salimi if it blew north and its wind',\n",
       " 'If the star has a curd, and there is no lightning in the sky, it is correct',\n",
       " \"The sun's beam was absent in a non -scab\",\n",
       " 'He gave an uncle, as if it was a below, we will see it.',\n",
       " 'If the heart is not, many people returned to them in the poem.',\n",
       " 'Each guest and side will be rewarded, as he responded to Al -Qalla',\n",
       " 'In their hands, Muqnouma and Maghal, who returns to the livestock of children, given it',\n",
       " 'And a polish',\n",
       " 'The poison is walking under its dismay to those who surprised her',\n",
       " 'On the sakes of Awabis, a death of death, which is not comfortable',\n",
       " 'We rejected them an invitation to her money, if you do not find someone to relieve it',\n",
       " 'We explained to them a surah, a fabrication, and our styles are made of their inclusion',\n",
       " 'And our arms, they shake them a great shake, we will return to them and we will praise it',\n",
       " 'She ran a hour, and she left them and ran a class after a whole for her spirit',\n",
       " 'What their hands were destroyed from our souls, and if you are honored, we do not mourn them',\n",
       " 'We said it is the plunder and the solution of its forbidden',\n",
       " 'So our father and all of us with a neglected pulse of our wounds and wounds',\n",
       " 'And if we were dreams of people, they were absent on our dreams, so we will comfort them',\n",
       " 'You have shortened the length of the journey of the Lord of the companions, I sent a generous',\n",
       " 'So I told them to see my aunt for you, but you will find the wind with arrows',\n",
       " 'They rose to Es, whose flesh has joined her laughter with servants',\n",
       " 'And I went to the customers of Kahl Jalabah',\n",
       " 'So I get up until the sun rises intended, even if it was mixed with its dark',\n",
       " 'So water was imported when a mixture of cat and bathroom returned to him',\n",
       " 'And the ultimate palm, do not harm you, a hand in a hand in a food container',\n",
       " 'A hand from afar or a relative that brought a dusty dust',\n",
       " 'As if I have exceeded ninety arguments, I took off one day a virgin for Jami',\n",
       " 'On the two comfortments once, and on the stick, three times, after my resurrection',\n",
       " 'The daughters of the eternity threw me from where I do not see, so how can he throw and not Bram']"
      ]
     },
     "execution_count": 18,
     "metadata": {},
     "output_type": "execute_result"
    }
   ],
   "source": [
    "# translated_to_en"
   ]
  },
  {
   "cell_type": "code",
   "execution_count": null,
   "metadata": {},
   "outputs": [],
   "source": [
    "# if __name__ == '__main__':\n",
    "#     p1 = Process(target=automated_google_translation, \n",
    "#                  args=(list_of_positive_reviews_english,google_translate_url,'positive'))\n",
    "# #     p1.start()\n",
    "# #     p2 = Process(target=automated_google_translation, \n",
    "# #                  args=(list_of_negative_reviews_english,google_translate_url, 'negative'))\n",
    "#     p2.start()\n",
    "#     p1.join()\n",
    "#     p2.join()"
   ]
  },
  {
   "cell_type": "markdown",
   "metadata": {},
   "source": [
    "![alt text](images/negative.png \"negative_reviews\")\n",
    "![alt text](images/positive.png \"positive_reviews\")"
   ]
  },
  {
   "cell_type": "code",
   "execution_count": null,
   "metadata": {},
   "outputs": [],
   "source": []
  }
 ],
 "metadata": {
  "kernelspec": {
   "display_name": "Python 3 (ipykernel)",
   "language": "python",
   "name": "python3"
  },
  "language_info": {
   "codemirror_mode": {
    "name": "ipython",
    "version": 3
   },
   "file_extension": ".py",
   "mimetype": "text/x-python",
   "name": "python",
   "nbconvert_exporter": "python",
   "pygments_lexer": "ipython3",
   "version": "3.8.13"
  }
 },
 "nbformat": 4,
 "nbformat_minor": 2
}
