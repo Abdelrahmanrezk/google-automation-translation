{
 "cells": [
  {
   "cell_type": "markdown",
   "metadata": {},
   "source": [
    "# Import used libraries"
   ]
  },
  {
   "cell_type": "code",
   "execution_count": 1,
   "metadata": {},
   "outputs": [],
   "source": [
    "from config import *\n",
    "from selenium import webdriver\n",
    "from selenium.webdriver.firefox.options import Options\n",
    "import os\n",
    "import pymongo\n",
    "from time import sleep\n",
    "import pandas as pd\n",
    "import numpy as np\n",
    "import re\n",
    "import csv\n",
    "import sys\n",
    "from time import sleep\n",
    "from multiprocessing import Process\n",
    "from selenium.webdriver.common.by import By"
   ]
  },
  {
   "cell_type": "markdown",
   "metadata": {},
   "source": [
    "## Connect to mongodb\n",
    "\n",
    "you should have your own parameters of: \n",
    "- mongo user\n",
    "- mongo pass\n",
    "- mongo_url\n",
    "\n",
    "apply these three paramters in config file.\n",
    "\n",
    "**I have separate the positive reviews from negative reviews in two databases.**"
   ]
  },
  {
   "cell_type": "code",
   "execution_count": 2,
   "metadata": {},
   "outputs": [],
   "source": [
    "client = pymongo.MongoClient(f\"mongodb+srv://{mongo_user}:{mongo_pass}@{mongo_url}\")\n",
    "db1 = client.positive_reviews\n",
    "client = pymongo.MongoClient(f\"mongodb+srv://{mongo_user}:{mongo_pass}@{mongo_url}\")\n",
    "db2 = client.negative_reviews"
   ]
  },
  {
   "cell_type": "code",
   "execution_count": 3,
   "metadata": {},
   "outputs": [],
   "source": [
    "try:\n",
    "    current_path = os.path.dirname(os.path.abspath(__file__))\n",
    "except:\n",
    "    current_path = '.'"
   ]
  },
  {
   "cell_type": "code",
   "execution_count": 4,
   "metadata": {},
   "outputs": [],
   "source": [
    "def init_driver(gecko_driver='', user_agent='', load_images=True, is_headless=False):\n",
    "    '''\n",
    "        This function is just to set up some of default for browser\n",
    "    '''\n",
    "    firefox_profile = webdriver.FirefoxProfile()\n",
    "    \n",
    "    firefox_profile.set_preference('dom.ipc.plugins.enabled.libflashplayer.so', False)\n",
    "    firefox_profile.set_preference(\"media.volume_scale\", \"0.0\")\n",
    "    firefox_profile.set_preference(\"dom.webnotifications.enabled\", False)\n",
    "    if user_agent != '':\n",
    "        firefox_profile.set_preference(\"general.useragent.override\", user_agent)\n",
    "    if not load_images:\n",
    "        firefox_profile.set_preference('permissions.default.image', 2)\n",
    "\n",
    "    options = Options()\n",
    "    options.headless = is_headless\n",
    "    \n",
    "    driver = webdriver.Firefox(options=options,\n",
    "                               executable_path=f'{current_path}/{gecko_driver}',\n",
    "                               firefox_profile=firefox_profile)\n",
    "    \n",
    "    return driver"
   ]
  },
  {
   "cell_type": "code",
   "execution_count": 5,
   "metadata": {},
   "outputs": [],
   "source": [
    "def get_url(url, driver):\n",
    "    '''\n",
    "    Argument:\n",
    "        url of any page to get\n",
    "        driver that was inilized\n",
    "    return:\n",
    "        True\n",
    "    '''\n",
    "    driver.get(url)\n",
    "    driver.refresh()\n",
    "    return True\n"
   ]
  },
  {
   "cell_type": "markdown",
   "metadata": {},
   "source": [
    "### Call the main function with multithreading process\n",
    "\n",
    "first of all we launch our driver and then click on the require languages we need to translate \"from Engish\" and \"to Arabic\".\n",
    "\n",
    "so you will see that en_selctor is the source language and ar_selctor that we translate to.\n",
    "\n",
    "I just use condition that present each 3000 translated reviews.\n",
    "\n",
    "for each time we send English review to google we need to ensure that its cleared once translated to Arabic.\n",
    "\n",
    "based on using multiprocessing that help us translate positive and negative reviews at the same time we enshure that the sourse is positive or negative reviews and then send to database once it has no review like that because of repated entry in any time we translate other reviews.\n",
    "\n",
    "close the driver once it finish."
   ]
  },
  {
   "cell_type": "code",
   "execution_count": 6,
   "metadata": {},
   "outputs": [],
   "source": [
    "def automated_google_translation(list_of_reviews, url, plority):\n",
    "    driver = init_driver(gecko_driver,user_agent=user_agent)\n",
    "    get_url(url, driver)\n",
    "    en_selctor = driver.find_element_by_css_selector('#sugg-item-en')\n",
    "    en_selctor.click()\n",
    "    ar_selctor = driver.find_element_by_css_selector('#sugg-item-ar')\n",
    "    ar_selctor.click()\n",
    "    translated_reviews_positive = []\n",
    "    translated_reviews_negative = []\n",
    "    \n",
    "    for i, reviews in enumerate(list_of_reviews):\n",
    "        if i % 3000 == 0:\n",
    "            print(\"Translate \" + str(i) + \" reviews\")\n",
    "        source = driver.find_element_by_css_selector('#source')\n",
    "        source.clear()\n",
    "        source.send_keys(reviews)\n",
    "        sleep(3)\n",
    "        translate = driver.find_element_by_css_selector('.tlid-translation')\n",
    "        if plority == 'positive':\n",
    "            if db1.translated_reviews.find({\"positive_review\" : translate.text}).count() == 0:\n",
    "                _ = db1.translated_reviews.insert_one({'positive_review': translate.text})\n",
    "                translated_reviews_positive.append(translate.text)\n",
    "        elif plority == 'negative':\n",
    "            if db2.translated_reviews.find({\"negative_review\" : translate.text}).count() == 0:\n",
    "                _ = db2.translated_reviews.insert_one({'negative_review': translate.text})\n",
    "                translated_reviews_negative.append(translate.text)\n",
    "    driver.close()\n",
    "    return translated_reviews_negative, translated_reviews_positive"
   ]
  },
  {
   "cell_type": "markdown",
   "metadata": {},
   "source": [
    "## Reading csv\n",
    "you need to read you file from csv_files the same file has classifed Arabic reviews with 5000 review.\n",
    "\n",
    "so for another time you have another file with english reviews just apply it in the dir.\n",
    "\n",
    "you should apply your column that contain the polarity of the review instead of **'reviews.rating'**"
   ]
  },
  {
   "cell_type": "code",
   "execution_count": 7,
   "metadata": {},
   "outputs": [],
   "source": [
    "df = pd.read_csv('csv_files/last_time_combined_reviews_2020-03-13 11:53:06.350672.csv')"
   ]
  },
  {
   "cell_type": "code",
   "execution_count": 8,
   "metadata": {},
   "outputs": [],
   "source": [
    "list_of_positive = df[df['reviews.rating'] == 1] \n",
    "list_of_negative = df[df['reviews.rating'] == 0]"
   ]
  },
  {
   "cell_type": "code",
   "execution_count": 9,
   "metadata": {},
   "outputs": [],
   "source": [
    "list_of_positive_reviews_english = list(list_of_positive['reviews.text'])\n",
    "list_of_negative_reviews_english = list(list_of_negative['reviews.text'])"
   ]
  },
  {
   "cell_type": "code",
   "execution_count": 10,
   "metadata": {},
   "outputs": [
    {
     "name": "stdout",
     "output_type": "stream",
     "text": [
      "62547\n"
     ]
    },
    {
     "data": {
      "text/plain": [
       "5412"
      ]
     },
     "execution_count": 10,
     "metadata": {},
     "output_type": "execute_result"
    }
   ],
   "source": [
    "print(len(list_of_positive_reviews_english))\n",
    "len(list_of_negative_reviews_english)"
   ]
  },
  {
   "cell_type": "code",
   "execution_count": null,
   "metadata": {},
   "outputs": [
    {
     "name": "stdout",
     "output_type": "stream",
     "text": [
      "Translate 0 reviews\n"
     ]
    }
   ],
   "source": [
    "if __name__ == '__main__':\n",
    "    p1 = Process(target=automated_google_translation, \n",
    "                 args=(list_of_positive_reviews_english,google_translate_url,'positive'))\n",
    "    p1.start()\n",
    "    p2 = Process(target=automated_google_translation, \n",
    "                 args=(list_of_negative_reviews_english,google_translate_url, 'negative'))\n",
    "    p2.start()\n",
    "    p1.join()\n",
    "    p2.join()"
   ]
  },
  {
   "cell_type": "markdown",
   "metadata": {},
   "source": [
    "![alt text](images/negative.png \"negative_reviews\")\n",
    "![alt text](images/positive.png \"positive_reviews\")"
   ]
  },
  {
   "cell_type": "code",
   "execution_count": null,
   "metadata": {},
   "outputs": [],
   "source": []
  }
 ],
 "metadata": {
  "kernelspec": {
   "display_name": "Python 3",
   "language": "python",
   "name": "python3"
  },
  "language_info": {
   "codemirror_mode": {
    "name": "ipython",
    "version": 3
   },
   "file_extension": ".py",
   "mimetype": "text/x-python",
   "name": "python",
   "nbconvert_exporter": "python",
   "pygments_lexer": "ipython3",
   "version": "3.7.4"
  }
 },
 "nbformat": 4,
 "nbformat_minor": 2
}
